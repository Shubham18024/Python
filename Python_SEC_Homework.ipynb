{
 "cells": [
  {
   "cell_type": "code",
   "execution_count": 3,
   "id": "9b6b4b92",
   "metadata": {},
   "outputs": [
    {
     "name": "stdout",
     "output_type": "stream",
     "text": [
      "Mean : 20.0\n"
     ]
    }
   ],
   "source": [
    "num_1 = 10\n",
    "num_2 = 20\n",
    "num_3 = 30\n",
    "print(f\"Mean : {(num_1+num_2+num_3)/3}\")"
   ]
  },
  {
   "cell_type": "code",
   "execution_count": 5,
   "id": "488eb540",
   "metadata": {},
   "outputs": [
    {
     "data": {
      "text/plain": [
       "False"
      ]
     },
     "execution_count": 5,
     "metadata": {},
     "output_type": "execute_result"
    }
   ],
   "source": [
    "(num_1 == num_2)"
   ]
  },
  {
   "cell_type": "code",
   "execution_count": 7,
   "id": "f4b36953",
   "metadata": {},
   "outputs": [
    {
     "data": {
      "text/plain": [
       "False"
      ]
     },
     "execution_count": 7,
     "metadata": {},
     "output_type": "execute_result"
    }
   ],
   "source": [
    "num_4 = 10\n",
    "(num_1 != num_4)"
   ]
  },
  {
   "cell_type": "code",
   "execution_count": 8,
   "id": "da815b95",
   "metadata": {},
   "outputs": [
    {
     "data": {
      "text/plain": [
       "True"
      ]
     },
     "execution_count": 8,
     "metadata": {},
     "output_type": "execute_result"
    }
   ],
   "source": [
    "(num_1 < num_2) & (num_3 > num_4)"
   ]
  },
  {
   "cell_type": "code",
   "execution_count": 10,
   "id": "d2161010",
   "metadata": {},
   "outputs": [
    {
     "data": {
      "text/plain": [
       "True"
      ]
     },
     "execution_count": 10,
     "metadata": {},
     "output_type": "execute_result"
    }
   ],
   "source": [
    "(num_1 < num_2) or (num_3 < num_4)"
   ]
  },
  {
   "cell_type": "code",
   "execution_count": 18,
   "id": "3b8f28ae",
   "metadata": {},
   "outputs": [
    {
     "name": "stdout",
     "output_type": "stream",
     "text": [
      "Bitwise_or : 30\n",
      "Bitwise_xor : 30\n"
     ]
    },
    {
     "data": {
      "text/plain": [
       "' 10 in binary: 1010\\n    20 in binary: 10100 '"
      ]
     },
     "execution_count": 18,
     "metadata": {},
     "output_type": "execute_result"
    }
   ],
   "source": [
    "print(f\"Bitwise_or : {num_1 | num_2}\\nBitwise_xor : {num_1 ^ num_2}\")  \n",
    "\"\"\" 10 in binary: 1010\n",
    "    20 in binary: 10100 \"\"\""
   ]
  },
  {
   "cell_type": "code",
   "execution_count": 22,
   "id": "4c14bc3d",
   "metadata": {},
   "outputs": [
    {
     "name": "stdout",
     "output_type": "stream",
     "text": [
      "Left shift : 40\n",
      "Right shift : 5\n"
     ]
    }
   ],
   "source": [
    "print(f\"Left shift : {num_1 << 2}\\nRight shift : {num_2 >> 2}\")"
   ]
  },
  {
   "cell_type": "code",
   "execution_count": 8,
   "id": "b7cab087",
   "metadata": {},
   "outputs": [
    {
     "data": {
      "text/plain": [
       "[1, 4, 9, 16, 25, 36, 49, 64, 81, 100]"
      ]
     },
     "execution_count": 8,
     "metadata": {},
     "output_type": "execute_result"
    }
   ],
   "source": [
    "a = [x**2 for x in range(1,11)]\n",
    "a"
   ]
  },
  {
   "cell_type": "markdown",
   "id": "e3f7a081",
   "metadata": {},
   "source": [
    "# Classes"
   ]
  },
  {
   "cell_type": "code",
   "execution_count": 8,
   "id": "4654c9a9",
   "metadata": {},
   "outputs": [
    {
     "name": "stdout",
     "output_type": "stream",
     "text": [
      "Name: Shubham Tiwari\n",
      "Stream: A\n",
      "Percentage: 91.33%\n",
      "Grade: A\n",
      "\n",
      "Name: Ram\n",
      "Stream: C\n",
      "Percentage: 66.67%\n",
      "Grade: C\n"
     ]
    }
   ],
   "source": [
    "class Student:\n",
    "    def __init__(self, name, stream, marks):\n",
    "        self.name = name\n",
    "        self.stream = stream\n",
    "        self.marks = marks\n",
    "    \n",
    "    def calculate_percentage(self):\n",
    "        total_marks = sum(self.marks)\n",
    "        max_marks = 3 * 50  \n",
    "        percentage = (total_marks / max_marks) * 100\n",
    "        return percentage\n",
    "    \n",
    "    def calculate_grade(self):\n",
    "        percentage = self.calculate_percentage()\n",
    "        if percentage > 90:\n",
    "            return 'A'\n",
    "        elif 80 <= percentage < 90:\n",
    "            return 'B'\n",
    "        elif 65 <= percentage < 80:\n",
    "            return 'C'\n",
    "        elif 40 <= percentage < 65:\n",
    "            return 'D'\n",
    "        else:\n",
    "            return 'Fail'\n",
    "    \n",
    "    def display(self):\n",
    "        percentage = self.calculate_percentage()\n",
    "        grade = self.calculate_grade()\n",
    "        print(f\"Name: {self.name}\")\n",
    "        print(f\"Stream: {self.stream}\")\n",
    "        print(f\"Percentage: {percentage:.2f}%\")\n",
    "        print(f\"Grade: {grade}\")\n",
    "\n",
    "student1 = Student(\"Shubham Tiwari\", \"A\", [48, 39, 50])\n",
    "student2 = Student(\"Ram\", \"C\", [20,45,35])\n",
    "student1.display()\n",
    "print()\n",
    "student2.display()"
   ]
  },
  {
   "cell_type": "code",
   "execution_count": 9,
   "id": "adff64a2",
   "metadata": {},
   "outputs": [
    {
     "name": "stdout",
     "output_type": "stream",
     "text": [
      "Length: 10\n",
      "Breadth: 5\n",
      "Area: 50\n",
      "Perimeter: 30\n",
      "Length: 15\n",
      "Breadth: 5\n",
      "Area: 75\n",
      "Perimeter: 40\n"
     ]
    }
   ],
   "source": [
    "class Rectangle:\n",
    "    def __init__(self, length, breadth):\n",
    "        self.length = length\n",
    "        self.breadth = breadth\n",
    "    \n",
    "    def calculate_perimeter(self):\n",
    "        return 2 * (self.length + self.breadth)\n",
    "    \n",
    "    def calculate_area(self):\n",
    "        return self.length * self.breadth\n",
    "    \n",
    "    def set_length(self, new_length):\n",
    "        self.length = new_length\n",
    "    \n",
    "    def print_details(self):\n",
    "        area = self.calculate_area()\n",
    "        perimeter = self.calculate_perimeter()\n",
    "        print(f\"Length: {self.length}\")\n",
    "        print(f\"Breadth: {self.breadth}\")\n",
    "        print(f\"Area: {area}\")\n",
    "        print(f\"Perimeter: {perimeter}\")\n",
    "\n",
    "\n",
    "rectangle = Rectangle(10, 5)\n",
    "\n",
    "\n",
    "rectangle.print_details()\n",
    "\n",
    "rectangle.set_length(15)\n",
    "\n",
    "\n",
    "rectangle.print_details()\n"
   ]
  }
 ],
 "metadata": {
  "kernelspec": {
   "display_name": "Python 3 (ipykernel)",
   "language": "python",
   "name": "python3"
  },
  "language_info": {
   "codemirror_mode": {
    "name": "ipython",
    "version": 3
   },
   "file_extension": ".py",
   "mimetype": "text/x-python",
   "name": "python",
   "nbconvert_exporter": "python",
   "pygments_lexer": "ipython3",
   "version": "3.11.1"
  }
 },
 "nbformat": 4,
 "nbformat_minor": 5
}
