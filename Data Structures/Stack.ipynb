{
 "cells": [
  {
   "cell_type": "code",
   "execution_count": 3,
   "id": "d621e27a",
   "metadata": {},
   "outputs": [],
   "source": [
    "class Stack:\n",
    "    def __init__(self):\n",
    "        self.items = []\n",
    "\n",
    "    def is_empty(self):\n",
    "        return len(self.items) == 0\n",
    "\n",
    "    def push(self, item):\n",
    "        self.items.append(item)\n",
    "\n",
    "    def pop(self):\n",
    "        if not self.is_empty():\n",
    "            return self.items.pop()\n",
    "        else:\n",
    "            raise Empty(\"Stack is empty\")\n",
    "\n",
    "    def top(self):\n",
    "        if not self.is_empty():\n",
    "            return self.items[-1]\n",
    "        else:\n",
    "            raise Empty(\"Stack is empty\")\n",
    "\n",
    "    def size(self):\n",
    "        return len(self.items)\n",
    "    \n",
    "    def show(self):\n",
    "        return self.items\n",
    "    \n",
    "class Empty(Exception):\n",
    "    '''Error attempting to access an element from an empty container.'''\n",
    "    pass"
   ]
  },
  {
   "cell_type": "code",
   "execution_count": 4,
   "id": "2b286651",
   "metadata": {},
   "outputs": [
    {
     "name": "stdout",
     "output_type": "stream",
     "text": [
      "*** STACK ***\n",
      "\n",
      "1. Push\n",
      "2. Pop\n",
      "3. Top element\n",
      "4. Size of Stack\n",
      "5. Show Whole Stack\n",
      "6. Exit\n",
      "Enter your choice: 6\n",
      "Exiting program. Goodbye! (❁´◡`❁) \n"
     ]
    }
   ],
   "source": [
    "def main():\n",
    "    s = Stack()\n",
    "    print(\"*** STACK ***\")\n",
    "    while True:\n",
    "        print(\"\\n1. Push\")\n",
    "        print(\"2. Pop\")\n",
    "        print(\"3. Top element\")\n",
    "        print(\"4. Size of Stack\")\n",
    "        print(\"5. Show Whole Stack\")\n",
    "        print(\"6. Exit\")\n",
    "        \n",
    "        choice = int(input(\"Enter your choice: \"))\n",
    "        if choice == 1:\n",
    "            value = eval(input(\"Enter the value to be inserted: \"))\n",
    "            s.push(value)\n",
    "            print(f\"{value} inserted at the beginning.\")\n",
    "        elif choice == 2:\n",
    "            print(s.pop())\n",
    "        elif choice == 3 :\n",
    "            print(s.top())\n",
    "        elif choice == 4:\n",
    "            print(s.size())\n",
    "        elif choice == 5:\n",
    "            print(s.show())\n",
    "        elif choice == 6:\n",
    "            print(\"Exiting program. Goodbye! (❁´◡`❁) \")\n",
    "            break\n",
    "        else:\n",
    "            print(\"Invalid Choice. Please try again.\")\n",
    "        \n",
    "if __name__ == \"__main__\":\n",
    "    main()"
   ]
  },
  {
   "cell_type": "code",
   "execution_count": null,
   "id": "6c6404e5",
   "metadata": {},
   "outputs": [],
   "source": []
  },
  {
   "cell_type": "code",
   "execution_count": 5,
   "id": "b7936859",
   "metadata": {},
   "outputs": [],
   "source": [
    "def evaluate_postfix(expression):\n",
    "    stack = Stack()\n",
    "    operators = {'+', '-', '*', '/'}\n",
    "\n",
    "    for token in expression.split():\n",
    "        if token.isdigit():  \n",
    "            stack.push(int(token))\n",
    "        elif token in operators:  \n",
    "            b = stack.pop()\n",
    "            a = stack.pop()\n",
    "            if token == '+':\n",
    "                stack.push(a + b)\n",
    "            elif token == '-':\n",
    "                stack.push(a - b)\n",
    "            elif token == '*':\n",
    "                stack.push(a * b)\n",
    "            elif token == '/':\n",
    "                stack.push(a / b)  \n",
    "    \n",
    "    return stack.pop() "
   ]
  },
  {
   "cell_type": "code",
   "execution_count": 6,
   "id": "a3ce4124",
   "metadata": {},
   "outputs": [
    {
     "name": "stdout",
     "output_type": "stream",
     "text": [
      "Result of '5 3 + 2 *': 16\n",
      "Result of '6 2 / 3 +': 6.0\n",
      "Result of '4 5 * 2 -': 18\n"
     ]
    }
   ],
   "source": [
    "# Example postfix expressions\n",
    "expression1 = \"5 3 + 2 *\"  \n",
    "expression2 = \"6 2 / 3 +\"  \n",
    "expression3 = \"4 5 * 2 -\"  \n",
    "\n",
    "# Evaluating the expressions\n",
    "result1 = evaluate_postfix(expression1)\n",
    "result2 = evaluate_postfix(expression2)\n",
    "result3 = evaluate_postfix(expression3)\n",
    "\n",
    "# Printing the results\n",
    "print(f\"Result of '{expression1}': {result1}\")\n",
    "print(f\"Result of '{expression2}': {result2}\")\n",
    "print(f\"Result of '{expression3}': {result3}\")\n"
   ]
  },
  {
   "cell_type": "code",
   "execution_count": 7,
   "id": "d7abdd80",
   "metadata": {},
   "outputs": [],
   "source": [
    "def evaluate_prefix(expression):\n",
    "    stack = Stack()\n",
    "    operators = {'+', '-', '*', '/'}\n",
    "\n",
    "    tokens = expression.split()[::-1]  \n",
    "\n",
    "    for token in tokens:\n",
    "        if token.isdigit(): \n",
    "            stack.push(int(token))\n",
    "        elif token in operators:  \n",
    "            a = stack.pop()\n",
    "            b = stack.pop()\n",
    "            if token == '+':\n",
    "                stack.push(a + b)\n",
    "            elif token == '-':\n",
    "                stack.push(a - b)\n",
    "            elif token == '*':\n",
    "                stack.push(a * b)\n",
    "            elif token == '/':\n",
    "                stack.push(a / b)\n",
    "    \n",
    "    return stack.pop()  \n"
   ]
  },
  {
   "cell_type": "code",
   "execution_count": 8,
   "id": "b61f0f5d",
   "metadata": {},
   "outputs": [
    {
     "name": "stdout",
     "output_type": "stream",
     "text": [
      "Result of '+ * 2 3 5': 11\n",
      "Result of '- / 10 2 3': 2.0\n",
      "Result of '* + 4 3 2': 14\n"
     ]
    }
   ],
   "source": [
    "# Example prefix expressions\n",
    "expression1 = \"+ * 2 3 5\"  # (2 * 3) + 5 = 11\n",
    "expression2 = \"- / 10 2 3\"  # (10 / 2) - 3 = 2\n",
    "expression3 = \"* + 4 3 2\"  # (4 + 3) * 2 = 14\n",
    "\n",
    "# Evaluating the expressions\n",
    "result1 = evaluate_prefix(expression1)\n",
    "result2 = evaluate_prefix(expression2)\n",
    "result3 = evaluate_prefix(expression3)\n",
    "\n",
    "# Printing the results\n",
    "print(f\"Result of '{expression1}': {result1}\")\n",
    "print(f\"Result of '{expression2}': {result2}\")\n",
    "print(f\"Result of '{expression3}': {result3}\")\n"
   ]
  },
  {
   "cell_type": "code",
   "execution_count": 26,
   "id": "84c11069",
   "metadata": {},
   "outputs": [],
   "source": [
    "def reverse_string(exp):\n",
    "    s= Stack()\n",
    "    reverse = \"\"\n",
    "    for char in exp:\n",
    "        s.push(char)\n",
    "    while not s.is_empty():\n",
    "        reverse+=s.pop()\n",
    "    return reverse\n",
    "        "
   ]
  },
  {
   "cell_type": "code",
   "execution_count": 27,
   "id": "1f42e5a6",
   "metadata": {},
   "outputs": [
    {
     "data": {
      "text/plain": [
       "'dcba'"
      ]
     },
     "execution_count": 27,
     "metadata": {},
     "output_type": "execute_result"
    }
   ],
   "source": [
    "reverse_string(\"abcd\")"
   ]
  },
  {
   "cell_type": "code",
   "execution_count": null,
   "id": "04dbd368",
   "metadata": {},
   "outputs": [],
   "source": []
  }
 ],
 "metadata": {
  "kernelspec": {
   "display_name": "Python 3 (ipykernel)",
   "language": "python",
   "name": "python3"
  },
  "language_info": {
   "codemirror_mode": {
    "name": "ipython",
    "version": 3
   },
   "file_extension": ".py",
   "mimetype": "text/x-python",
   "name": "python",
   "nbconvert_exporter": "python",
   "pygments_lexer": "ipython3",
   "version": "3.11.1"
  }
 },
 "nbformat": 4,
 "nbformat_minor": 5
}
