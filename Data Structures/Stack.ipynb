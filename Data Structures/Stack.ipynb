{
 "cells": [
  {
   "cell_type": "markdown",
   "id": "fd8371fd-901e-4416-962a-233b6d2bc3c2",
   "metadata": {
    "tags": []
   },
   "source": [
    "# Stack"
   ]
  },
  {
   "cell_type": "code",
   "execution_count": 1,
   "id": "a6485e36-ef28-4ef3-ba51-afc5a2bb340d",
   "metadata": {
    "tags": []
   },
   "outputs": [
    {
     "name": "stdout",
     "output_type": "stream",
     "text": [
      "Pushed item:1\n",
      "Pushed item:2\n",
      "Pushed item:3\n",
      "Pushed item:4\n",
      "Pushed item:5\n",
      "Pushed item:6\n",
      "Pushed item:7\n",
      "Pushed item:8\n",
      "Pushed item:9\n",
      "Pushed item:10\n",
      "******************\n",
      "Popped Item:10\n",
      "Popped Item:9\n",
      "Popped Item:8\n",
      "Popped Item:7\n",
      "Popped Item:6\n",
      "[1, 2, 3, 4, 5]\n"
     ]
    }
   ],
   "source": [
    "#Creating a stcack using LIST\n",
    "def create_stack():\n",
    "    stack=[]\n",
    "    return stack\n",
    "\n",
    "def check_empty(stack):\n",
    "    return len(stack) ==0\n",
    "\n",
    "def push(stack,item):\n",
    "    stack.append(item)\n",
    "    print(f\"Pushed item:{item}\")\n",
    "\n",
    "def pop(stack):\n",
    "    if (check_empty(stack)):\n",
    "        return \"Stack is empty\"\n",
    "    else :\n",
    "        return stack.pop()\n",
    "    \n",
    "    \n",
    "stack = create_stack()\n",
    "for i in range(1,11):\n",
    "    push(stack,i)\n",
    "print(\"******************\")\n",
    "for i in range(5):\n",
    "    print(f\"Popped Item:{pop(stack)}\")\n",
    "print(stack)"
   ]
  },
  {
   "cell_type": "code",
   "execution_count": 13,
   "id": "de62d03d-6ba8-4c3e-99d1-6009c3e35a01",
   "metadata": {
    "tags": []
   },
   "outputs": [
    {
     "name": "stdout",
     "output_type": "stream",
     "text": [
      "deque([1, 2, 3])\n"
     ]
    },
    {
     "data": {
      "text/plain": [
       "deque([1, 2])"
      ]
     },
     "execution_count": 13,
     "metadata": {},
     "output_type": "execute_result"
    }
   ],
   "source": [
    "from collections import deque\n",
    "stack = deque()\n",
    "for i in range(1,4):\n",
    "    stack.append(i)\n",
    "print(stack)\n",
    "stack.pop()\n",
    "stack"
   ]
  },
  {
   "cell_type": "code",
   "execution_count": 1,
   "id": "697f80eb-4672-4152-b378-dcdc60a13243",
   "metadata": {
    "tags": []
   },
   "outputs": [
    {
     "data": {
      "text/plain": [
       "<queue.LifoQueue at 0x2d1a45ccd10>"
      ]
     },
     "execution_count": 1,
     "metadata": {},
     "output_type": "execute_result"
    }
   ],
   "source": [
    "#Works Worse!!\n",
    "\n",
    "from queue import LifoQueue\n",
    "my_stack = LifoQueue(maxsize = 5)\n",
    "my_stack"
   ]
  },
  {
   "cell_type": "code",
   "execution_count": 2,
   "id": "c83fa180-db44-457c-9d6c-c52adee04117",
   "metadata": {},
   "outputs": [],
   "source": [
    "for i in range(1,4):\n",
    "    my_stack.put(i)"
   ]
  },
  {
   "cell_type": "code",
   "execution_count": 3,
   "id": "a4a3d1f1",
   "metadata": {},
   "outputs": [],
   "source": [
    "my_stack.put(6)"
   ]
  },
  {
   "cell_type": "code",
   "execution_count": 4,
   "id": "42ed32d9",
   "metadata": {},
   "outputs": [
    {
     "data": {
      "text/plain": [
       "4"
      ]
     },
     "execution_count": 4,
     "metadata": {},
     "output_type": "execute_result"
    }
   ],
   "source": [
    "my_stack.full()\n",
    "my_stack.qsize()"
   ]
  },
  {
   "cell_type": "code",
   "execution_count": 5,
   "id": "ffaaf889",
   "metadata": {},
   "outputs": [
    {
     "data": {
      "text/plain": [
       "6"
      ]
     },
     "execution_count": 5,
     "metadata": {},
     "output_type": "execute_result"
    }
   ],
   "source": [
    "my_stack.get()"
   ]
  },
  {
   "cell_type": "code",
   "execution_count": 7,
   "id": "eb338da8",
   "metadata": {},
   "outputs": [
    {
     "data": {
      "text/plain": [
       "False"
      ]
     },
     "execution_count": 7,
     "metadata": {},
     "output_type": "execute_result"
    }
   ],
   "source": [
    "my_stack.empty()"
   ]
  },
  {
   "cell_type": "code",
   "execution_count": 2,
   "id": "dedabba7",
   "metadata": {},
   "outputs": [
    {
     "name": "stdout",
     "output_type": "stream",
     "text": [
      "Stack overflow: Cannot add more elements.\n",
      "Stack underflow: No elements left to remove.\n"
     ]
    }
   ],
   "source": [
    "import queue\n",
    "from queue import LifoQueue\n",
    "\n",
    "from queue import LifoQueue\n",
    "my_stack = LifoQueue(maxsize=5)\n",
    "\n",
    "# Fill the stack\n",
    "for i in range(5):\n",
    "    my_stack.put(i)\n",
    "\n",
    "# Try to add the 6th element with non-blocking mode\n",
    "try:\n",
    "    my_stack.put(6, block=False)\n",
    "except queue.Full:\n",
    "    print(\"Stack overflow: Cannot add more elements.\")\n",
    "\n",
    "# Empty the stack\n",
    "for _ in range(5):\n",
    "    my_stack.get()\n",
    "\n",
    "# Try to get an element from an empty stack in non-blocking mode\n",
    "try:\n",
    "    my_stack.get(block=False)\n",
    "except queue.Empty:\n",
    "    print(\"Stack underflow: No elements left to remove.\")\n"
   ]
  },
  {
   "cell_type": "code",
   "execution_count": 15,
   "id": "406c78be",
   "metadata": {},
   "outputs": [
    {
     "name": "stdout",
     "output_type": "stream",
     "text": [
      "Top element: 20\n",
      "Stack contents: [10, 20]\n",
      "Stack after pop: [10]\n"
     ]
    }
   ],
   "source": [
    "class Stack:\n",
    "    def __init__(self):\n",
    "        self.items = []\n",
    "\n",
    "    def is_empty(self):\n",
    "        return len(self.items) == 0\n",
    "\n",
    "    def push(self, item):\n",
    "        self.items.append(item)\n",
    "\n",
    "    def pop(self):\n",
    "        if not self.is_empty():\n",
    "            return self.items.pop()\n",
    "        else:\n",
    "            return \"Stack underflow\"\n",
    "\n",
    "    def peek(self):\n",
    "        if not self.is_empty():\n",
    "            return self.items[-1]\n",
    "        else:\n",
    "            return \"Stack is empty\"\n",
    "\n",
    "    def size(self):\n",
    "        return len(self.items)\n",
    "\n",
    "# Usage\n",
    "stack = Stack()\n",
    "stack.push(10)\n",
    "stack.push(20)\n",
    "print(\"Top element:\", stack.peek())\n",
    "print(\"Stack contents:\", stack.items)\n",
    "stack.pop()\n",
    "print(\"Stack after pop:\", stack.items)\n"
   ]
  },
  {
   "cell_type": "code",
   "execution_count": 16,
   "id": "d50df938",
   "metadata": {},
   "outputs": [
    {
     "data": {
      "text/plain": [
       "1"
      ]
     },
     "execution_count": 16,
     "metadata": {},
     "output_type": "execute_result"
    }
   ],
   "source": [
    "stack.size()"
   ]
  },
  {
   "cell_type": "code",
   "execution_count": 17,
   "id": "cdb6ab81",
   "metadata": {},
   "outputs": [],
   "source": [
    "stack.push(10)"
   ]
  },
  {
   "cell_type": "code",
   "execution_count": 18,
   "id": "68a0e174",
   "metadata": {},
   "outputs": [
    {
     "data": {
      "text/plain": [
       "[10, 10]"
      ]
     },
     "execution_count": 18,
     "metadata": {},
     "output_type": "execute_result"
    }
   ],
   "source": [
    "stack.items"
   ]
  },
  {
   "cell_type": "code",
   "execution_count": 19,
   "id": "94a20421",
   "metadata": {},
   "outputs": [
    {
     "data": {
      "text/plain": [
       "False"
      ]
     },
     "execution_count": 19,
     "metadata": {},
     "output_type": "execute_result"
    }
   ],
   "source": [
    "stack.is_empty()"
   ]
  },
  {
   "cell_type": "code",
   "execution_count": 29,
   "id": "8dd1d105",
   "metadata": {},
   "outputs": [],
   "source": [
    "stack2=Stack()\n",
    "stack2.push(10)\n",
    "stack2.push(15)\n",
    "stack2.push(30)"
   ]
  },
  {
   "cell_type": "code",
   "execution_count": 30,
   "id": "15bb5cca",
   "metadata": {},
   "outputs": [
    {
     "data": {
      "text/plain": [
       "[10, 15, 30]"
      ]
     },
     "execution_count": 30,
     "metadata": {},
     "output_type": "execute_result"
    }
   ],
   "source": [
    "stack2.items"
   ]
  },
  {
   "cell_type": "code",
   "execution_count": 32,
   "id": "79d3519d",
   "metadata": {},
   "outputs": [
    {
     "data": {
      "text/plain": [
       "[10, 10]"
      ]
     },
     "execution_count": 32,
     "metadata": {},
     "output_type": "execute_result"
    }
   ],
   "source": [
    "stack.items"
   ]
  },
  {
   "cell_type": "code",
   "execution_count": null,
   "id": "de369289",
   "metadata": {},
   "outputs": [],
   "source": []
  },
  {
   "cell_type": "code",
   "execution_count": null,
   "id": "6d23465d",
   "metadata": {},
   "outputs": [],
   "source": []
  },
  {
   "cell_type": "code",
   "execution_count": null,
   "id": "1e8d2f14",
   "metadata": {},
   "outputs": [],
   "source": []
  }
 ],
 "metadata": {
  "kernelspec": {
   "display_name": "Python 3 (ipykernel)",
   "language": "python",
   "name": "python3"
  },
  "language_info": {
   "codemirror_mode": {
    "name": "ipython",
    "version": 3
   },
   "file_extension": ".py",
   "mimetype": "text/x-python",
   "name": "python",
   "nbconvert_exporter": "python",
   "pygments_lexer": "ipython3",
   "version": "3.11.1"
  }
 },
 "nbformat": 4,
 "nbformat_minor": 5
}
