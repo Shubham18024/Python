{
 "cells": [
  {
   "cell_type": "raw",
   "id": "4e20f8f2",
   "metadata": {},
   "source": [
    "1. Write a program to implement singly linked list as an ADT that supports the following operations:\n",
    "    i. Insert an element x at the beginning of the singly linked list\n",
    "    ii. Insert an element x at ith position in the singly linked list\n",
    "    iii. Remove an element from the beginning of the singly linked list\n",
    "    iv. Remove an element from ith position in the singly linked list.\n",
    "    v. Search for an element x in the singly linked list and return its pointer"
   ]
  },
  {
   "cell_type": "code",
   "execution_count": 116,
   "id": "bf188470",
   "metadata": {},
   "outputs": [],
   "source": [
    "class Sll_Node:\n",
    "    def __init__(self, data):\n",
    "        self.data = data\n",
    "        self.next = None\n",
    "\n",
    "class Sll_construction:\n",
    "    def __init__(self):\n",
    "        self.head = None\n",
    "        \n",
    "    def insertAtBegin(self, data):\n",
    "        new_node = Sll_Node(data)\n",
    "        if self.head is None:\n",
    "            self.head = new_node\n",
    "        else:\n",
    "            new_node.next = self.head\n",
    "            self.head = new_node\n",
    "            \n",
    "    def insertAtPosition(self, data, index):\n",
    "        new_node = Sll_Node(data)\n",
    "        if index == 0:\n",
    "            self.insertAtBegin(data)\n",
    "            return            # STOP further execution\n",
    "        temp = self.head\n",
    "        position = 0\n",
    "\n",
    "        while temp is not None and position < index - 1:\n",
    "            temp = temp.next\n",
    "            position += 1\n",
    "        if temp is None:\n",
    "            print(f\"Index {index} is out of bounds. Cannot insert.\")\n",
    "            return\n",
    "        new_node.next = temp.next\n",
    "        temp.next = new_node\n",
    "            \n",
    "    def removeParticularNode(self, index):\n",
    "        if self.head is None:\n",
    "            print(\"Empty List\")\n",
    "            return\n",
    "        if index == 0:\n",
    "            removed_data = self.head.data\n",
    "            self.head = self.head.next  \n",
    "            return\n",
    "        temp = self.head\n",
    "        position = 0\n",
    "        \n",
    "        while temp is not None and position < index - 1:\n",
    "            temp = temp.next\n",
    "            position += 1\n",
    "\n",
    "        if temp is None or temp.next is None:\n",
    "            print(f\"Index {index} is out of bounds. Cannot delete.\")\n",
    "            return\n",
    "    \n",
    "        temp1 = temp.next \n",
    "        removed_data = temp1.data\n",
    "        temp.next = temp1.next  \n",
    "        temp1 = None  \n",
    "            \n",
    "    def removeFirstNode(self):\n",
    "        if self.head is None:\n",
    "            return \"Empty List\"\n",
    "        else:\n",
    "            removed_data = self.head.data     #set data of current head in removed_data ,30-->20-->10, removed_data = 30 to be deleted\n",
    "            self.head = self.head.next        #Update the head to point to the next node, now pointer moves to 20\n",
    "            return removed_data\n",
    "            \n",
    "    def traverseSLL(self):\n",
    "        if self.head is None:\n",
    "            print(\"The list is empty.\")\n",
    "        temp = self.head\n",
    "        while temp is not None:\n",
    "            print(temp.data, end=\" --> \")\n",
    "            temp = temp.next\n",
    "        print(None)\n",
    "        \n",
    "    def SearchSLL(self,key):\n",
    "        if self.head is None:\n",
    "            print(\"The list is empty.\")\n",
    "        temp = self.head                                        #flag to track search\n",
    "        position = 0\n",
    "        while temp is not None:\n",
    "            if temp.data == key:\n",
    "                print(f\"{key} is present in SLL at index number '{position}'\")\n",
    "                return\n",
    "            temp = temp.next\n",
    "            position+=1\n",
    "        print(f\"{key} is not present in SLL\")\n",
    "        \n",
    "        "
   ]
  },
  {
   "cell_type": "code",
   "execution_count": 117,
   "id": "9712fa4f",
   "metadata": {},
   "outputs": [
    {
     "name": "stdout",
     "output_type": "stream",
     "text": [
      "20 --> 15 --> 10 --> 5 --> 0 --> None\n"
     ]
    }
   ],
   "source": [
    "l = Sll_construction()\n",
    "for i in range(0,25,5):\n",
    "    l.insertAtBegin(i)\n",
    "l.traverseSLL()"
   ]
  },
  {
   "cell_type": "code",
   "execution_count": 118,
   "id": "b5bf3c2c",
   "metadata": {},
   "outputs": [],
   "source": [
    "l.removeParticularNode(0)"
   ]
  },
  {
   "cell_type": "code",
   "execution_count": 119,
   "id": "6b4022f9",
   "metadata": {},
   "outputs": [
    {
     "name": "stdout",
     "output_type": "stream",
     "text": [
      "15 --> 10 --> 5 --> 0 --> None\n"
     ]
    }
   ],
   "source": [
    "l.traverseSLL()"
   ]
  },
  {
   "cell_type": "code",
   "execution_count": 66,
   "id": "f1446f7a",
   "metadata": {},
   "outputs": [
    {
     "name": "stdout",
     "output_type": "stream",
     "text": [
      "98 is present in SLL at index number '4'\n"
     ]
    }
   ],
   "source": [
    "l.SearchSLL(98)"
   ]
  },
  {
   "cell_type": "code",
   "execution_count": null,
   "id": "f0fd81f9",
   "metadata": {},
   "outputs": [],
   "source": []
  }
 ],
 "metadata": {
  "kernelspec": {
   "display_name": "Python 3 (ipykernel)",
   "language": "python",
   "name": "python3"
  },
  "language_info": {
   "codemirror_mode": {
    "name": "ipython",
    "version": 3
   },
   "file_extension": ".py",
   "mimetype": "text/x-python",
   "name": "python",
   "nbconvert_exporter": "python",
   "pygments_lexer": "ipython3",
   "version": "3.11.1"
  }
 },
 "nbformat": 4,
 "nbformat_minor": 5
}
