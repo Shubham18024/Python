{
 "cells": [
  {
   "cell_type": "code",
   "execution_count": 1,
   "id": "21ff3761",
   "metadata": {},
   "outputs": [
    {
     "ename": "OSError",
     "evalue": "no library called \"cairo-2\" was found\nno library called \"cairo\" was found\nno library called \"libcairo-2\" was found\ncannot load library 'libcairo.so.2': error 0x7e.  Additionally, ctypes.util.find_library() did not manage to locate a library called 'libcairo.so.2'\ncannot load library 'libcairo.2.dylib': error 0x7e.  Additionally, ctypes.util.find_library() did not manage to locate a library called 'libcairo.2.dylib'\ncannot load library 'libcairo-2.dll': error 0x7e.  Additionally, ctypes.util.find_library() did not manage to locate a library called 'libcairo-2.dll'",
     "output_type": "error",
     "traceback": [
      "\u001b[1;31m---------------------------------------------------------------------------\u001b[0m",
      "\u001b[1;31mOSError\u001b[0m                                   Traceback (most recent call last)",
      "Cell \u001b[1;32mIn[1], line 1\u001b[0m\n\u001b[1;32m----> 1\u001b[0m \u001b[38;5;28;01mimport\u001b[39;00m \u001b[38;5;21;01mcairosvg\u001b[39;00m\n\u001b[0;32m      3\u001b[0m \u001b[38;5;66;03m# Define the SVG content\u001b[39;00m\n\u001b[0;32m      4\u001b[0m svg_content \u001b[38;5;241m=\u001b[39m \u001b[38;5;124m\"\"\"\u001b[39m\u001b[38;5;124m<?xml version=\u001b[39m\u001b[38;5;124m\"\u001b[39m\u001b[38;5;124m1.0\u001b[39m\u001b[38;5;124m\"\u001b[39m\u001b[38;5;124m encoding=\u001b[39m\u001b[38;5;124m\"\u001b[39m\u001b[38;5;124mUTF-8\u001b[39m\u001b[38;5;124m\"\u001b[39m\u001b[38;5;124m standalone=\u001b[39m\u001b[38;5;124m\"\u001b[39m\u001b[38;5;124mno\u001b[39m\u001b[38;5;124m\"\u001b[39m\u001b[38;5;124m?>\u001b[39m\n\u001b[0;32m      5\u001b[0m \u001b[38;5;124m<svg width=\u001b[39m\u001b[38;5;124m\"\u001b[39m\u001b[38;5;124m800\u001b[39m\u001b[38;5;124m\"\u001b[39m\u001b[38;5;124m height=\u001b[39m\u001b[38;5;124m\"\u001b[39m\u001b[38;5;124m600\u001b[39m\u001b[38;5;124m\"\u001b[39m\u001b[38;5;124m viewBox=\u001b[39m\u001b[38;5;124m\"\u001b[39m\u001b[38;5;124m0 0 800 600\u001b[39m\u001b[38;5;124m\"\u001b[39m\u001b[38;5;124m xmlns=\u001b[39m\u001b[38;5;124m\"\u001b[39m\u001b[38;5;124mhttp://www.w3.org/2000/svg\u001b[39m\u001b[38;5;124m\"\u001b[39m\u001b[38;5;124m>\u001b[39m\n\u001b[0;32m      6\u001b[0m \u001b[38;5;124m    <!-- Background -->\u001b[39m\n\u001b[1;32m   (...)\u001b[0m\n\u001b[0;32m     47\u001b[0m \u001b[38;5;124m</svg>\u001b[39m\n\u001b[0;32m     48\u001b[0m \u001b[38;5;124m\"\"\"\u001b[39m\n",
      "File \u001b[1;32m~\\AppData\\Roaming\\Python\\Python311\\site-packages\\cairosvg\\__init__.py:26\u001b[0m\n\u001b[0;32m     22\u001b[0m VERSION \u001b[38;5;241m=\u001b[39m __version__ \u001b[38;5;241m=\u001b[39m (ROOT \u001b[38;5;241m/\u001b[39m \u001b[38;5;124m'\u001b[39m\u001b[38;5;124mVERSION\u001b[39m\u001b[38;5;124m'\u001b[39m)\u001b[38;5;241m.\u001b[39mread_text()\u001b[38;5;241m.\u001b[39mstrip()\n\u001b[0;32m     25\u001b[0m \u001b[38;5;66;03m# VERSION is used in the \"url\" module imported by \"surface\"\u001b[39;00m\n\u001b[1;32m---> 26\u001b[0m \u001b[38;5;28;01mfrom\u001b[39;00m \u001b[38;5;21;01m.\u001b[39;00m \u001b[38;5;28;01mimport\u001b[39;00m surface  \u001b[38;5;66;03m# noqa isort:skip\u001b[39;00m\n\u001b[0;32m     29\u001b[0m SURFACES \u001b[38;5;241m=\u001b[39m {\n\u001b[0;32m     30\u001b[0m     \u001b[38;5;124m'\u001b[39m\u001b[38;5;124mPDF\u001b[39m\u001b[38;5;124m'\u001b[39m: surface\u001b[38;5;241m.\u001b[39mPDFSurface,\n\u001b[0;32m     31\u001b[0m     \u001b[38;5;124m'\u001b[39m\u001b[38;5;124mPNG\u001b[39m\u001b[38;5;124m'\u001b[39m: surface\u001b[38;5;241m.\u001b[39mPNGSurface,\n\u001b[1;32m   (...)\u001b[0m\n\u001b[0;32m     34\u001b[0m     \u001b[38;5;124m'\u001b[39m\u001b[38;5;124mSVG\u001b[39m\u001b[38;5;124m'\u001b[39m: surface\u001b[38;5;241m.\u001b[39mSVGSurface,\n\u001b[0;32m     35\u001b[0m }\n\u001b[0;32m     38\u001b[0m \u001b[38;5;28;01mdef\u001b[39;00m \u001b[38;5;21msvg2svg\u001b[39m(bytestring\u001b[38;5;241m=\u001b[39m\u001b[38;5;28;01mNone\u001b[39;00m, \u001b[38;5;241m*\u001b[39m, file_obj\u001b[38;5;241m=\u001b[39m\u001b[38;5;28;01mNone\u001b[39;00m, url\u001b[38;5;241m=\u001b[39m\u001b[38;5;28;01mNone\u001b[39;00m, dpi\u001b[38;5;241m=\u001b[39m\u001b[38;5;241m96\u001b[39m,\n\u001b[0;32m     39\u001b[0m             parent_width\u001b[38;5;241m=\u001b[39m\u001b[38;5;28;01mNone\u001b[39;00m, parent_height\u001b[38;5;241m=\u001b[39m\u001b[38;5;28;01mNone\u001b[39;00m, scale\u001b[38;5;241m=\u001b[39m\u001b[38;5;241m1\u001b[39m, unsafe\u001b[38;5;241m=\u001b[39m\u001b[38;5;28;01mFalse\u001b[39;00m,\n\u001b[0;32m     40\u001b[0m             background_color\u001b[38;5;241m=\u001b[39m\u001b[38;5;28;01mNone\u001b[39;00m, negate_colors\u001b[38;5;241m=\u001b[39m\u001b[38;5;28;01mFalse\u001b[39;00m, invert_images\u001b[38;5;241m=\u001b[39m\u001b[38;5;28;01mFalse\u001b[39;00m,\n\u001b[0;32m     41\u001b[0m             write_to\u001b[38;5;241m=\u001b[39m\u001b[38;5;28;01mNone\u001b[39;00m, output_width\u001b[38;5;241m=\u001b[39m\u001b[38;5;28;01mNone\u001b[39;00m, output_height\u001b[38;5;241m=\u001b[39m\u001b[38;5;28;01mNone\u001b[39;00m):\n",
      "File \u001b[1;32m~\\AppData\\Roaming\\Python\\Python311\\site-packages\\cairosvg\\surface.py:9\u001b[0m\n\u001b[0;32m      6\u001b[0m \u001b[38;5;28;01mimport\u001b[39;00m \u001b[38;5;21;01mcopy\u001b[39;00m\n\u001b[0;32m      7\u001b[0m \u001b[38;5;28;01mimport\u001b[39;00m \u001b[38;5;21;01mio\u001b[39;00m\n\u001b[1;32m----> 9\u001b[0m \u001b[38;5;28;01mimport\u001b[39;00m \u001b[38;5;21;01mcairocffi\u001b[39;00m \u001b[38;5;28;01mas\u001b[39;00m \u001b[38;5;21;01mcairo\u001b[39;00m\n\u001b[0;32m     11\u001b[0m \u001b[38;5;28;01mfrom\u001b[39;00m \u001b[38;5;21;01m.\u001b[39;00m\u001b[38;5;21;01mcolors\u001b[39;00m \u001b[38;5;28;01mimport\u001b[39;00m color, negate_color\n\u001b[0;32m     12\u001b[0m \u001b[38;5;28;01mfrom\u001b[39;00m \u001b[38;5;21;01m.\u001b[39;00m\u001b[38;5;21;01mdefs\u001b[39;00m \u001b[38;5;28;01mimport\u001b[39;00m (\n\u001b[0;32m     13\u001b[0m     apply_filter_after_painting, apply_filter_before_painting, clip_path,\n\u001b[0;32m     14\u001b[0m     filter_, gradient_or_pattern, linear_gradient, marker, mask, paint_mask,\n\u001b[0;32m     15\u001b[0m     parse_all_defs, pattern, prepare_filter, radial_gradient, use)\n",
      "File \u001b[1;32m~\\AppData\\Roaming\\Python\\Python311\\site-packages\\cairocffi\\__init__.py:60\u001b[0m\n\u001b[0;32m     55\u001b[0m     error_message \u001b[38;5;241m=\u001b[39m \u001b[38;5;124m'\u001b[39m\u001b[38;5;130;01m\\n\u001b[39;00m\u001b[38;5;124m'\u001b[39m\u001b[38;5;241m.\u001b[39mjoin(  \u001b[38;5;66;03m# pragma: no cover\u001b[39;00m\n\u001b[0;32m     56\u001b[0m         \u001b[38;5;28mstr\u001b[39m(exception) \u001b[38;5;28;01mfor\u001b[39;00m exception \u001b[38;5;129;01min\u001b[39;00m exceptions)\n\u001b[0;32m     57\u001b[0m     \u001b[38;5;28;01mraise\u001b[39;00m \u001b[38;5;167;01mOSError\u001b[39;00m(error_message)  \u001b[38;5;66;03m# pragma: no cover\u001b[39;00m\n\u001b[1;32m---> 60\u001b[0m cairo \u001b[38;5;241m=\u001b[39m \u001b[43mdlopen\u001b[49m\u001b[43m(\u001b[49m\n\u001b[0;32m     61\u001b[0m \u001b[43m    \u001b[49m\u001b[43mffi\u001b[49m\u001b[43m,\u001b[49m\u001b[43m \u001b[49m\u001b[43m(\u001b[49m\u001b[38;5;124;43m'\u001b[39;49m\u001b[38;5;124;43mcairo-2\u001b[39;49m\u001b[38;5;124;43m'\u001b[39;49m\u001b[43m,\u001b[49m\u001b[43m \u001b[49m\u001b[38;5;124;43m'\u001b[39;49m\u001b[38;5;124;43mcairo\u001b[39;49m\u001b[38;5;124;43m'\u001b[39;49m\u001b[43m,\u001b[49m\u001b[43m \u001b[49m\u001b[38;5;124;43m'\u001b[39;49m\u001b[38;5;124;43mlibcairo-2\u001b[39;49m\u001b[38;5;124;43m'\u001b[39;49m\u001b[43m)\u001b[49m\u001b[43m,\u001b[49m\n\u001b[0;32m     62\u001b[0m \u001b[43m    \u001b[49m\u001b[43m(\u001b[49m\u001b[38;5;124;43m'\u001b[39;49m\u001b[38;5;124;43mlibcairo.so.2\u001b[39;49m\u001b[38;5;124;43m'\u001b[39;49m\u001b[43m,\u001b[49m\u001b[43m \u001b[49m\u001b[38;5;124;43m'\u001b[39;49m\u001b[38;5;124;43mlibcairo.2.dylib\u001b[39;49m\u001b[38;5;124;43m'\u001b[39;49m\u001b[43m,\u001b[49m\u001b[43m \u001b[49m\u001b[38;5;124;43m'\u001b[39;49m\u001b[38;5;124;43mlibcairo-2.dll\u001b[39;49m\u001b[38;5;124;43m'\u001b[39;49m\u001b[43m)\u001b[49m\u001b[43m)\u001b[49m\n\u001b[0;32m     65\u001b[0m \u001b[38;5;28;01mclass\u001b[39;00m \u001b[38;5;21;01m_keepref\u001b[39;00m(\u001b[38;5;28mobject\u001b[39m):  \u001b[38;5;66;03m# noqa: N801\u001b[39;00m\n\u001b[0;32m     66\u001b[0m \u001b[38;5;250m    \u001b[39m\u001b[38;5;124;03m\"\"\"Function wrapper that keeps a reference to another object.\"\"\"\u001b[39;00m\n",
      "File \u001b[1;32m~\\AppData\\Roaming\\Python\\Python311\\site-packages\\cairocffi\\__init__.py:57\u001b[0m, in \u001b[0;36mdlopen\u001b[1;34m(ffi, library_names, filenames)\u001b[0m\n\u001b[0;32m     53\u001b[0m         exceptions\u001b[38;5;241m.\u001b[39mappend(exception)\n\u001b[0;32m     55\u001b[0m error_message \u001b[38;5;241m=\u001b[39m \u001b[38;5;124m'\u001b[39m\u001b[38;5;130;01m\\n\u001b[39;00m\u001b[38;5;124m'\u001b[39m\u001b[38;5;241m.\u001b[39mjoin(  \u001b[38;5;66;03m# pragma: no cover\u001b[39;00m\n\u001b[0;32m     56\u001b[0m     \u001b[38;5;28mstr\u001b[39m(exception) \u001b[38;5;28;01mfor\u001b[39;00m exception \u001b[38;5;129;01min\u001b[39;00m exceptions)\n\u001b[1;32m---> 57\u001b[0m \u001b[38;5;28;01mraise\u001b[39;00m \u001b[38;5;167;01mOSError\u001b[39;00m(error_message)\n",
      "\u001b[1;31mOSError\u001b[0m: no library called \"cairo-2\" was found\nno library called \"cairo\" was found\nno library called \"libcairo-2\" was found\ncannot load library 'libcairo.so.2': error 0x7e.  Additionally, ctypes.util.find_library() did not manage to locate a library called 'libcairo.so.2'\ncannot load library 'libcairo.2.dylib': error 0x7e.  Additionally, ctypes.util.find_library() did not manage to locate a library called 'libcairo.2.dylib'\ncannot load library 'libcairo-2.dll': error 0x7e.  Additionally, ctypes.util.find_library() did not manage to locate a library called 'libcairo-2.dll'"
     ]
    }
   ],
   "source": [
    "import cairosvg\n",
    "\n",
    "# Define the SVG content\n",
    "svg_content = \"\"\"<?xml version=\"1.0\" encoding=\"UTF-8\" standalone=\"no\"?>\n",
    "<svg width=\"800\" height=\"600\" viewBox=\"0 0 800 600\" xmlns=\"http://www.w3.org/2000/svg\">\n",
    "    <!-- Background -->\n",
    "    <rect width=\"800\" height=\"600\" fill=\"#1A1A2E\"/>  <!-- Dark Blueish Background -->\n",
    "    \n",
    "    <!-- Title -->\n",
    "    <text x=\"50%\" y=\"80\" font-size=\"40\" font-family=\"Algerian, serif\" fill=\"gold\" text-anchor=\"middle\" font-weight=\"bold\">\n",
    "        Is Bitcoin Just About Belief?\n",
    "    </text>\n",
    "    \n",
    "    <!-- Bitcoin Symbol -->\n",
    "    <circle cx=\"400\" cy=\"200\" r=\"50\" fill=\"gold\" stroke=\"white\" stroke-width=\"4\"/>\n",
    "    <text x=\"400\" y=\"210\" font-size=\"50\" fill=\"black\" text-anchor=\"middle\" font-family=\"Times New Roman, serif\" font-weight=\"bold\">\n",
    "        ฿\n",
    "    </text>\n",
    "    \n",
    "    <!-- Sections -->\n",
    "    <text x=\"50%\" y=\"280\" font-size=\"24\" fill=\"white\" text-anchor=\"middle\" font-family=\"Algerian, serif\" font-weight=\"bold\">\n",
    "        ✅ Mathematical Trust (Cryptography & Code)\n",
    "    </text>\n",
    "    <text x=\"50%\" y=\"320\" font-size=\"20\" fill=\"lightgray\" text-anchor=\"middle\" font-family=\"Times New Roman, serif\">\n",
    "        - Bitcoin is secured by SHA-256 cryptography\n",
    "    </text>\n",
    "    <text x=\"50%\" y=\"350\" font-size=\"20\" fill=\"lightgray\" text-anchor=\"middle\" font-family=\"Times New Roman, serif\">\n",
    "        - No need to trust anyone, it follows rules\n",
    "    </text>\n",
    "    \n",
    "    <text x=\"50%\" y=\"400\" font-size=\"24\" fill=\"white\" text-anchor=\"middle\" font-family=\"Algerian, serif\" font-weight=\"bold\">\n",
    "        ✅ Economic Trust (Scarcity & Value)\n",
    "    </text>\n",
    "    <text x=\"50%\" y=\"440\" font-size=\"20\" fill=\"lightgray\" text-anchor=\"middle\" font-family=\"Times New Roman, serif\">\n",
    "        - Fixed supply of 21M BTC makes it valuable\n",
    "    </text>\n",
    "    <text x=\"50%\" y=\"470\" font-size=\"20\" fill=\"lightgray\" text-anchor=\"middle\" font-family=\"Times New Roman, serif\">\n",
    "        - Market determines its worth\n",
    "    </text>\n",
    "    \n",
    "    <text x=\"50%\" y=\"520\" font-size=\"24\" fill=\"white\" text-anchor=\"middle\" font-family=\"Algerian, serif\" font-weight=\"bold\">\n",
    "        ✅ Social Trust (Network Effect)\n",
    "    </text>\n",
    "    <text x=\"50%\" y=\"560\" font-size=\"20\" fill=\"lightgray\" text-anchor=\"middle\" font-family=\"Times New Roman, serif\">\n",
    "        - More users = Stronger trust in Bitcoin\n",
    "    </text>\n",
    "</svg>\n",
    "\"\"\"\n",
    "\n",
    "# Save the SVG file\n",
    "with open(\"bitcoin_slide.svg\", \"w\") as f:\n",
    "    f.write(svg_content)\n",
    "\n",
    "# Convert SVG to PNG\n",
    "cairosvg.svg2png(bytestring=svg_content.encode('utf-8'), write_to=\"bitcoin_slide.png\")\n",
    "\n",
    "print(\"SVG and PNG files saved successfully!\")\n"
   ]
  },
  {
   "cell_type": "code",
   "execution_count": null,
   "id": "6b1b6375",
   "metadata": {},
   "outputs": [],
   "source": []
  }
 ],
 "metadata": {
  "kernelspec": {
   "display_name": "Python 3 (ipykernel)",
   "language": "python",
   "name": "python3"
  },
  "language_info": {
   "codemirror_mode": {
    "name": "ipython",
    "version": 3
   },
   "file_extension": ".py",
   "mimetype": "text/x-python",
   "name": "python",
   "nbconvert_exporter": "python",
   "pygments_lexer": "ipython3",
   "version": "3.11.1"
  }
 },
 "nbformat": 4,
 "nbformat_minor": 5
}
