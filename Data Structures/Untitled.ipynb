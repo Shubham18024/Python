{
 "cells": [
  {
   "cell_type": "code",
   "execution_count": 17,
   "id": "38a30709",
   "metadata": {},
   "outputs": [],
   "source": [
    "l= [5,9,1,4,2,-5,0,6]\n",
    "l.sort(reverse = False)"
   ]
  },
  {
   "cell_type": "code",
   "execution_count": 18,
   "id": "4a253cb2",
   "metadata": {},
   "outputs": [
    {
     "name": "stdout",
     "output_type": "stream",
     "text": [
      "[-5, 0, 1, 2, 4, 5, 6, 9]\n"
     ]
    }
   ],
   "source": [
    "print(l)"
   ]
  },
  {
   "cell_type": "code",
   "execution_count": 9,
   "id": "83916ac7",
   "metadata": {},
   "outputs": [],
   "source": [
    "def small_ele(arr):\n",
    "    smallestEle = arr[0]\n",
    "    smallIndex = 0\n",
    "    for i in range(1,len(arr)):\n",
    "        if arr[i] < smallestEle :\n",
    "            smallestEle = arr[i]\n",
    "            smallIndex = i\n",
    "    return smallIndex\n",
    "    \n",
    "def selectionsort(arr):\n",
    "    newarr = []\n",
    "    for i in range(len(arr)):\n",
    "        smallest = small_ele(arr)\n",
    "        newarr.append(arr.pop(smallest))\n",
    "    return newarr"
   ]
  },
  {
   "cell_type": "code",
   "execution_count": 10,
   "id": "13a52e0e",
   "metadata": {},
   "outputs": [
    {
     "data": {
      "text/plain": [
       "[-5, 0, 1, 2, 4, 5, 6, 9]"
      ]
     },
     "execution_count": 10,
     "metadata": {},
     "output_type": "execute_result"
    }
   ],
   "source": [
    "l= [5,9,1,4,2,-5,0,6]\n",
    "selectionsort(l)"
   ]
  },
  {
   "cell_type": "code",
   "execution_count": null,
   "id": "73a7c298",
   "metadata": {},
   "outputs": [],
   "source": []
  }
 ],
 "metadata": {
  "kernelspec": {
   "display_name": "Python 3 (ipykernel)",
   "language": "python",
   "name": "python3"
  },
  "language_info": {
   "codemirror_mode": {
    "name": "ipython",
    "version": 3
   },
   "file_extension": ".py",
   "mimetype": "text/x-python",
   "name": "python",
   "nbconvert_exporter": "python",
   "pygments_lexer": "ipython3",
   "version": "3.11.1"
  }
 },
 "nbformat": 4,
 "nbformat_minor": 5
}
