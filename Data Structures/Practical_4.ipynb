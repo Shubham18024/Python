{
 "cells": [
  {
   "cell_type": "markdown",
   "id": "5ab1fe7f",
   "metadata": {},
   "source": [
    "class Stack:\n",
    "    def __init__(self):\n",
    "        self.items = []\n",
    "\n",
    "    def is_empty(self):\n",
    "        return len(self.items) == 0\n",
    "\n",
    "    def push(self, item):\n",
    "        self.items.append(item)\n",
    "\n",
    "    def pop(self):\n",
    "        if not self.is_empty():\n",
    "            return self.items.pop()\n",
    "        else:\n",
    "            return \"Stack underflow\"\n",
    "\n",
    "    def peek(self):\n",
    "        if not self.is_empty():\n",
    "            return self.items[-1]\n",
    "        else:\n",
    "            return \"Stack is empty\"\n",
    "\n",
    "    def size(self):\n",
    "        return len(self.items)\n",
    "    \n",
    "    def show(self):\n",
    "        return self.items"
   ]
  },
  {
   "cell_type": "code",
   "execution_count": 11,
   "id": "55e5a4c8",
   "metadata": {},
   "outputs": [],
   "source": [
    "s = Stack()\n",
    "for i in range(1,5):\n",
    "    s.push(i)"
   ]
  },
  {
   "cell_type": "code",
   "execution_count": 12,
   "id": "6c6404e5",
   "metadata": {},
   "outputs": [
    {
     "data": {
      "text/plain": [
       "[1, 2, 3, 4]"
      ]
     },
     "execution_count": 12,
     "metadata": {},
     "output_type": "execute_result"
    }
   ],
   "source": [
    "s.show()"
   ]
  },
  {
   "cell_type": "markdown",
   "id": "65cf9658",
   "metadata": {},
   "source": [
    "def evaluate_postfix(expression):\n",
    "    stack = Stack()\n",
    "    operators = {'+', '-', '*', '/'}\n",
    "\n",
    "    for token in expression.split():\n",
    "        if token.isdigit():  \n",
    "            stack.push(int(token))\n",
    "        elif token in operators:  \n",
    "            b = stack.pop()\n",
    "            a = stack.pop()\n",
    "            if token == '+':\n",
    "                stack.push(a + b)\n",
    "            elif token == '-':\n",
    "                stack.push(a - b)\n",
    "            elif token == '*':\n",
    "                stack.push(a * b)\n",
    "            elif token == '/':\n",
    "                stack.push(a / b)  \n",
    "    \n",
    "    return stack.pop() "
   ]
  },
  {
   "cell_type": "markdown",
   "id": "8f3704e9",
   "metadata": {},
   "source": [
    "def evaluate_prefix(expression):\n",
    "    stack = Stack()\n",
    "    operators = {'+', '-', '*', '/'}\n",
    "\n",
    "    tokens = expression.split()[::-1]  \n",
    "\n",
    "    for token in tokens:\n",
    "        if token.isdigit(): \n",
    "            stack.push(int(token))\n",
    "        elif token in operators:  \n",
    "            a = stack.pop()\n",
    "            b = stack.pop()\n",
    "            if token == '+':\n",
    "                stack.push(a + b)\n",
    "            elif token == '-':\n",
    "                stack.push(a - b)\n",
    "            elif token == '*':\n",
    "                stack.push(a * b)\n",
    "            elif token == '/':\n",
    "                stack.push(a / b)\n",
    "    \n",
    "    return stack.pop()  \n"
   ]
  }
 ],
 "metadata": {
  "kernelspec": {
   "display_name": "Python 3 (ipykernel)",
   "language": "python",
   "name": "python3"
  },
  "language_info": {
   "codemirror_mode": {
    "name": "ipython",
    "version": 3
   },
   "file_extension": ".py",
   "mimetype": "text/x-python",
   "name": "python",
   "nbconvert_exporter": "python",
   "pygments_lexer": "ipython3",
   "version": "3.11.1"
  }
 },
 "nbformat": 4,
 "nbformat_minor": 5
}
