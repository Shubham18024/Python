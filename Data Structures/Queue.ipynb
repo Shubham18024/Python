{
 "cells": [
  {
   "cell_type": "code",
   "execution_count": 2,
   "id": "cb3e0a06",
   "metadata": {},
   "outputs": [],
   "source": [
    "class Queue:\n",
    "    def __init__(self):\n",
    "        self.items = []\n",
    "\n",
    "    def is_empty(self):\n",
    "        return len(self.items) == 0\n",
    "\n",
    "    def enqueue(self, item):\n",
    "        self.items.append(item)\n",
    "\n",
    "    def dequeue(self):\n",
    "        if not self.is_empty():\n",
    "            return self.items.pop(0)\n",
    "        else:\n",
    "            raise Empty(\"Queue is empty\")\n",
    "\n",
    "    def front(self):\n",
    "        if not self.is_empty():\n",
    "            return self.items[0]\n",
    "        else:\n",
    "            raise Empty(\"Queue is empty\")\n",
    "\n",
    "    def __len__(self):\n",
    "        return len(self.items)\n",
    "    \n",
    "    def show(self):\n",
    "        return self.items\n",
    "    \n",
    "class Empty(Exception):\n",
    "    '''Error attempting to access an element from an empty container.'''\n",
    "    pass\n"
   ]
  },
  {
   "cell_type": "code",
   "execution_count": null,
   "id": "6e3f3904",
   "metadata": {},
   "outputs": [],
   "source": [
    "def main():\n",
    "    q = Queue()\n",
    "    print(\"*** QUEUE ***\")\n",
    "    while True:\n",
    "        print(\"\\n1. Enqueue\")\n",
    "        print(\"2. Dequeue\")\n",
    "        print(\"3. Front element\")\n",
    "        print(\"4. Size of Queue\")\n",
    "        print(\"5. Show Whole Queue\")\n",
    "        print(\"6. Exit\")\n",
    "        \n",
    "        choice = int(input(\"Enter your choice: \"))\n",
    "        if choice == 1:\n",
    "            value = eval(input(\"Enter the value to be inserted: \"))\n",
    "            q.enqueue(value)\n",
    "            print(f\"{value} inserted at the end.\")\n",
    "        elif choice == 2:\n",
    "            print(q.dequeue())\n",
    "        elif choice == 3:\n",
    "            print(q.front())\n",
    "        elif choice == 4:\n",
    "            print(q.size())\n",
    "        elif choice == 5:\n",
    "            print(q.show())\n",
    "        elif choice == 6:\n",
    "            print(\"Exiting program. Goodbye! (❁´◡`❁) \")\n",
    "            break\n",
    "        else:\n",
    "            print(\"Invalid Choice. Please try again.\")\n",
    "        \n",
    "if __name__ == \"__main__\":\n",
    "    main()\n"
   ]
  },
  {
   "cell_type": "code",
   "execution_count": 11,
   "id": "fbe04018",
   "metadata": {},
   "outputs": [
    {
     "name": "stdout",
     "output_type": "stream",
     "text": [
      "Original Queue: [3, -5, 7, -2, 8, -1, 9]\n",
      "After removing negative elements: [3, 7, 8, 9]\n"
     ]
    }
   ],
   "source": [
    "def remove_negative(q):\n",
    "    size = q.size()\n",
    "\n",
    "    for _ in range(size):\n",
    "        element = q.dequeue()\n",
    "        \n",
    "        if element >= 0:\n",
    "            q.enqueue(element)\n",
    "\n",
    "# Example usage\n",
    "q = Queue()\n",
    "q.enqueue(3)\n",
    "q.enqueue(-5)\n",
    "q.enqueue(7)\n",
    "q.enqueue(-2)\n",
    "q.enqueue(8)\n",
    "q.enqueue(-1)\n",
    "q.enqueue(9)\n",
    "\n",
    "print(\"Original Queue:\", q.show())\n",
    "\n",
    "remove_negative(q)\n",
    "\n",
    "print(\"After removing negative elements:\", q.show())\n",
    "\n"
   ]
  },
  {
   "cell_type": "code",
   "execution_count": 3,
   "id": "62ebd293",
   "metadata": {},
   "outputs": [],
   "source": [
    "q = Queue()\n",
    "def remove_ne(q):\n",
    "    size = len(q)\n",
    "    for i in range(size):\n",
    "        elt = q.dequeue()\n",
    "        if elt >=0 :\n",
    "            q.enqueue(elt)\n",
    "q.enqueue(3)\n",
    "q.enqueue(-5)\n",
    "q.enqueue(7)\n",
    "q.enqueue(-2)\n",
    "q.enqueue(8)\n",
    "q.enqueue(-1)\n",
    "q.enqueue(9)\n"
   ]
  },
  {
   "cell_type": "code",
   "execution_count": 7,
   "id": "2d323704",
   "metadata": {},
   "outputs": [
    {
     "data": {
      "text/plain": [
       "[3, 7, 8, 9]"
      ]
     },
     "execution_count": 7,
     "metadata": {},
     "output_type": "execute_result"
    }
   ],
   "source": [
    "q.show()"
   ]
  },
  {
   "cell_type": "code",
   "execution_count": 6,
   "id": "dcd0d63e",
   "metadata": {},
   "outputs": [],
   "source": [
    "remove_ne(q)"
   ]
  },
  {
   "cell_type": "code",
   "execution_count": 10,
   "id": "2a2a11b8",
   "metadata": {},
   "outputs": [
    {
     "name": "stdout",
     "output_type": "stream",
     "text": [
      "(i) After enqueuing Y:\n",
      "Queue: [None, 'U', 'V', 'W', 'X', 'Y']\n",
      "Front: 1 Rear: 5\n",
      "----------------------------------------\n",
      "(ii) After one dequeue:\n",
      "Queue: [None, None, 'V', 'W', 'X', 'Y']\n",
      "Front: 2 Rear: 5\n",
      "----------------------------------------\n",
      "Queue Full! Cannot insert B\n",
      "(iii) After enqueuing Z, A, B:\n",
      "Queue: ['Z', 'A', 'V', 'W', 'X', 'Y']\n",
      "Front: 2 Rear: 1\n",
      "----------------------------------------\n",
      "(iv) After three dequeues:\n",
      "Queue: ['Z', 'A', None, None, None, 'Y']\n",
      "Front: 5 Rear: 1\n",
      "----------------------------------------\n",
      "(v) After enqueuing C:\n",
      "Queue: ['Z', 'A', 'C', None, None, 'Y']\n",
      "Front: 5 Rear: 2\n",
      "----------------------------------------\n"
     ]
    }
   ],
   "source": [
    "# Re-implementing the circular queue with proper logic using a size variable\n",
    "\n",
    "class CircularQueue:\n",
    "    def __init__(self, capacity):\n",
    "        self.capacity = capacity\n",
    "        self.queue = [None] * capacity\n",
    "        self.front = 1  # Start with front at index 1\n",
    "        self.rear = 4   # Start with rear at index 4\n",
    "        self.size = 4   # Initially, 4 elements are present (U, V, W, X)\n",
    "        self.queue[1] = 'U'\n",
    "        self.queue[2] = 'V'\n",
    "        self.queue[3] = 'W'\n",
    "        self.queue[4] = 'X'\n",
    "\n",
    "    def enqueue(self, item):\n",
    "        if self.size == self.capacity:\n",
    "            print(f\"Queue Full! Cannot insert {item}\")\n",
    "            return\n",
    "        self.rear = (self.rear + 1) % self.capacity\n",
    "        self.queue[self.rear] = item\n",
    "        self.size += 1\n",
    "\n",
    "    def dequeue(self):\n",
    "        if self.size == 0:\n",
    "            print(\"Queue Empty! Cannot dequeue.\")\n",
    "            return\n",
    "        self.queue[self.front] = None\n",
    "        self.front = (self.front + 1) % self.capacity\n",
    "        self.size -= 1\n",
    "\n",
    "    def display(self, label):\n",
    "        print(f\"{label}\")\n",
    "        print(\"Queue:\", self.queue)\n",
    "        print(f\"Front: {self.front} Rear: {self.rear}\")\n",
    "        print(\"-\" * 40)\n",
    "\n",
    "\n",
    "# Create the circular queue\n",
    "cq = CircularQueue(6)\n",
    "\n",
    "# Step (i): Y is added\n",
    "cq.enqueue('Y')\n",
    "cq.display(\"(i) After enqueuing Y:\")\n",
    "\n",
    "# Step (ii): One element is deleted\n",
    "cq.dequeue()\n",
    "cq.display(\"(ii) After one dequeue:\")\n",
    "\n",
    "# Step (iii): Z, A, B are added\n",
    "cq.enqueue('Z')\n",
    "cq.enqueue('A')\n",
    "cq.enqueue('B')\n",
    "cq.display(\"(iii) After enqueuing Z, A, B:\")\n",
    "\n",
    "# Step (iv): Three elements are deleted\n",
    "cq.dequeue()\n",
    "cq.dequeue()\n",
    "cq.dequeue()\n",
    "cq.display(\"(iv) After three dequeues:\")\n",
    "\n",
    "# Step (v): C is added\n",
    "cq.enqueue('C')\n",
    "cq.display(\"(v) After enqueuing C:\")\n",
    "\n"
   ]
  },
  {
   "cell_type": "code",
   "execution_count": null,
   "id": "57eddae6",
   "metadata": {},
   "outputs": [],
   "source": []
  }
 ],
 "metadata": {
  "kernelspec": {
   "display_name": "Python 3 (ipykernel)",
   "language": "python",
   "name": "python3"
  },
  "language_info": {
   "codemirror_mode": {
    "name": "ipython",
    "version": 3
   },
   "file_extension": ".py",
   "mimetype": "text/x-python",
   "name": "python",
   "nbconvert_exporter": "python",
   "pygments_lexer": "ipython3",
   "version": "3.11.1"
  }
 },
 "nbformat": 4,
 "nbformat_minor": 5
}
