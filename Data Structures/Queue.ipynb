{
 "cells": [
  {
   "cell_type": "markdown",
   "id": "a746a3cd",
   "metadata": {},
   "source": [
    "## Implementation as List"
   ]
  },
  {
   "cell_type": "code",
   "execution_count": 29,
   "id": "5d762ec3",
   "metadata": {},
   "outputs": [
    {
     "name": "stdout",
     "output_type": "stream",
     "text": [
      "Initial Queue: [20, 40, 60, 80]\n",
      "20\n",
      "40\n",
      "After removing elements: [60, 80]\n"
     ]
    }
   ],
   "source": [
    "q= []\n",
    "for i in range(20,100,20):\n",
    "    q.append(i)\n",
    "    \n",
    "print(\"Initial Queue:\",q)\n",
    "print(q.pop(0))  #for removing the first element we enter,i.e, To behave it like FIFO\n",
    "print(q.pop(0))\n",
    "print(\"After removing elements:\",q)\n"
   ]
  },
  {
   "cell_type": "markdown",
   "id": "5db4ba82",
   "metadata": {},
   "source": [
    "## Using Queue class"
   ]
  },
  {
   "cell_type": "code",
   "execution_count": 79,
   "id": "fc2cc073",
   "metadata": {},
   "outputs": [
    {
     "name": "stdout",
     "output_type": "stream",
     "text": [
      "Initial Size: 0\n",
      "After Insertion Size: 5\n",
      "is Full: True \n",
      "\n",
      "Removing elements\n",
      "A\n",
      "B\n",
      "is Empty? False\n"
     ]
    }
   ],
   "source": [
    "from queue import Queue\n",
    "q=Queue(maxsize = 5)\n",
    "print(\"Initial Size:\",q.qsize())\n",
    "\n",
    "q.put(\"A\") \n",
    "q.put(\"B\")\n",
    "q.put(\"C\")\n",
    "q.put(\"D\")\n",
    "q.put(\"E\")\n",
    "\n",
    "print(\"After Insertion Size:\",q.qsize())\n",
    "print(\"is Full:\",q.full(),\"\\n\")\n",
    "\n",
    "print(\"Removing elements\")\n",
    "print(q.get())\n",
    "print(q.get())\n",
    "print(\"is Empty?\",q.empty())"
   ]
  },
  {
   "cell_type": "markdown",
   "id": "6f785692",
   "metadata": {},
   "source": [
    "## Using deque class"
   ]
  },
  {
   "cell_type": "code",
   "execution_count": 77,
   "id": "9cca57dd",
   "metadata": {},
   "outputs": [
    {
     "name": "stdout",
     "output_type": "stream",
     "text": [
      "Initial Queue: deque([50, 45, 10, 'A', 'dog'])\n",
      "dog\n",
      "50\n",
      "After removing: deque([45, 10, 'A'])\n"
     ]
    }
   ],
   "source": [
    "from collections import deque\n",
    "q=deque()\n",
    "q.append(10)\n",
    "q.append(\"A\")\n",
    "q.appendleft(45)\n",
    "q.appendleft(50)\n",
    "q.append(\"dog\")\n",
    "\n",
    "print(\"Initial Queue:\",q)\n",
    "\n",
    "print(q.pop())\n",
    "print(q.popleft())\n",
    "print(\"After removing:\",q)"
   ]
  },
  {
   "cell_type": "markdown",
   "id": "d4dc31eb",
   "metadata": {},
   "source": [
    "## Using PriorityQueue class"
   ]
  },
  {
   "cell_type": "code",
   "execution_count": 19,
   "id": "13044846",
   "metadata": {},
   "outputs": [
    {
     "name": "stdout",
     "output_type": "stream",
     "text": [
      "is full?\n",
      " True\n",
      "(1, 'A')\n",
      "(2, 'Dog')\n",
      "(5, 'Zebra')\n",
      "(6, 'pi')\n",
      "(9, 59.9)\n"
     ]
    }
   ],
   "source": [
    "from queue import PriorityQueue\n",
    "p=PriorityQueue(maxsize=5)\n",
    "p.put((1,\"A\"))\n",
    "p.put((2,\"Dog\"))\n",
    "p.put((9,59.9))\n",
    "p.put((6,\"pi\"))\n",
    "p.put((5,\"Zebra\"))\n",
    "\n",
    "print(\"is full?\\n\",p.full())\n",
    "\n",
    "while not p.empty():\n",
    "    print(p.get())"
   ]
  },
  {
   "cell_type": "markdown",
   "id": "6e070ed4",
   "metadata": {},
   "source": [
    "## Using heapq"
   ]
  },
  {
   "cell_type": "code",
   "execution_count": 25,
   "id": "581ca9d9",
   "metadata": {},
   "outputs": [
    {
     "name": "stdout",
     "output_type": "stream",
     "text": [
      "(0, 'ABC')\n",
      "(1, 'ABC')\n",
      "(3, 'ABC')\n",
      "(5, 'ABC')\n"
     ]
    }
   ],
   "source": [
    "import heapq as h  #a.k.a Priority Queue but with heap structure\n",
    "X=[]\n",
    "h.heappush(X,(3,\"ABC\"))\n",
    "h.heappush(X,(0,\"ABC\"))\n",
    "h.heappush(X,(5,\"ABC\"))\n",
    "h.heappush(X,(1,\"ABC\"))\n",
    "\n",
    "while X:\n",
    "    item = h.heappop(X)\n",
    "    print(item)"
   ]
  },
  {
   "cell_type": "markdown",
   "id": "f280bd20",
   "metadata": {},
   "source": [
    "## Simple Queue implementation"
   ]
  },
  {
   "cell_type": "code",
   "execution_count": 5,
   "id": "ce8ddd56",
   "metadata": {},
   "outputs": [],
   "source": [
    "class Queue:\n",
    "    def __init__(self,size):\n",
    "        self.size=size\n",
    "        self.queue = [None]*size\n",
    "        self.front = self.rear = -1\n",
    "        \n",
    "    def is_empty(self):\n",
    "        return self.front == -1\n",
    "    \n",
    "    def is_full(self):\n",
    "        return self.rear == self.size+1\n",
    "        \n",
    "    def enqueue(self,item):\n",
    "        if self.is_full():\n",
    "            return \"Queue is full\"\n",
    "        elif self.is_empty():\n",
    "            self.front = self.rear = 0\n",
    "        else :\n",
    "            self.rear+=1\n",
    "        self.queue[self.rear] = item\n",
    "        \n",
    "    def dequeue(self):\n",
    "        if self.is_empty():\n",
    "            return \"Queue is empty\"\n",
    "        removed_item = self.queue[self.front]\n",
    "        if self.front == self.rear:\n",
    "            self.front = self.rear = -1\n",
    "        else :\n",
    "            self.front = self.front + 1\n",
    "        return removed_item\n",
    "            "
   ]
  },
  {
   "cell_type": "code",
   "execution_count": 12,
   "id": "b9c3b616",
   "metadata": {},
   "outputs": [
    {
     "data": {
      "text/plain": [
       "1"
      ]
     },
     "execution_count": 12,
     "metadata": {},
     "output_type": "execute_result"
    }
   ],
   "source": [
    "q = Queue(5)\n",
    "for i in range(1,4):\n",
    "    q.enqueue(i)\n",
    "q.dequeue()\n"
   ]
  },
  {
   "cell_type": "code",
   "execution_count": 13,
   "id": "483e6bec",
   "metadata": {},
   "outputs": [],
   "source": [
    "q.enqueue(4)\n",
    "q.enqueue(5)"
   ]
  },
  {
   "cell_type": "code",
   "execution_count": 14,
   "id": "afd5c201",
   "metadata": {},
   "outputs": [
    {
     "data": {
      "text/plain": [
       "2"
      ]
     },
     "execution_count": 14,
     "metadata": {},
     "output_type": "execute_result"
    }
   ],
   "source": [
    "q.dequeue()"
   ]
  },
  {
   "cell_type": "code",
   "execution_count": 15,
   "id": "ad232ec2",
   "metadata": {},
   "outputs": [
    {
     "ename": "IndexError",
     "evalue": "list assignment index out of range",
     "output_type": "error",
     "traceback": [
      "\u001b[1;31m---------------------------------------------------------------------------\u001b[0m",
      "\u001b[1;31mIndexError\u001b[0m                                Traceback (most recent call last)",
      "Cell \u001b[1;32mIn[15], line 1\u001b[0m\n\u001b[1;32m----> 1\u001b[0m \u001b[43mq\u001b[49m\u001b[38;5;241;43m.\u001b[39;49m\u001b[43menqueue\u001b[49m\u001b[43m(\u001b[49m\u001b[38;5;241;43m50\u001b[39;49m\u001b[43m)\u001b[49m\n",
      "Cell \u001b[1;32mIn[5], line 20\u001b[0m, in \u001b[0;36mQueue.enqueue\u001b[1;34m(self, item)\u001b[0m\n\u001b[0;32m     18\u001b[0m \u001b[38;5;28;01melse\u001b[39;00m :\n\u001b[0;32m     19\u001b[0m     \u001b[38;5;28mself\u001b[39m\u001b[38;5;241m.\u001b[39mrear\u001b[38;5;241m+\u001b[39m\u001b[38;5;241m=\u001b[39m\u001b[38;5;241m1\u001b[39m\n\u001b[1;32m---> 20\u001b[0m \u001b[38;5;28;43mself\u001b[39;49m\u001b[38;5;241;43m.\u001b[39;49m\u001b[43mqueue\u001b[49m\u001b[43m[\u001b[49m\u001b[38;5;28;43mself\u001b[39;49m\u001b[38;5;241;43m.\u001b[39;49m\u001b[43mrear\u001b[49m\u001b[43m]\u001b[49m \u001b[38;5;241m=\u001b[39m item\n",
      "\u001b[1;31mIndexError\u001b[0m: list assignment index out of range"
     ]
    }
   ],
   "source": [
    "q.enqueue(50)"
   ]
  },
  {
   "cell_type": "markdown",
   "id": "e7a1eeca",
   "metadata": {},
   "source": [
    "## Circular Queue Implementation"
   ]
  },
  {
   "cell_type": "code",
   "execution_count": 2,
   "id": "1723ae08",
   "metadata": {},
   "outputs": [],
   "source": [
    "class CircularQueue:\n",
    "    def __init__(self,size):\n",
    "        self.size=size\n",
    "        self.queue = [None]*size\n",
    "        self.front = self.rear = -1\n",
    "        \n",
    "    def is_empty(self):\n",
    "        return self.front == -1\n",
    "    \n",
    "    def is_full(self):\n",
    "        return (self.rear + 1) % self.size == self.front\n",
    "        \n",
    "    def enqueue(self,item):\n",
    "        if self.is_full():\n",
    "            return \"Queue is full\"\n",
    "        elif self.is_empty():\n",
    "            self.front = self.rear = 0\n",
    "        else :\n",
    "            self.rear=(self.rear+1)%self.size\n",
    "        self.queue[self.rear] = item\n",
    "        \n",
    "    def dequeue(self):\n",
    "        if self.is_empty():\n",
    "            return \"Queue is empty\"\n",
    "        removed_item = self.queue[self.front]\n",
    "        if self.front == self.rear:\n",
    "            self.front = self.rear = -1\n",
    "        else :\n",
    "            self.front = (self.front + 1) % self.size\n",
    "        return removed_item\n",
    "            "
   ]
  },
  {
   "cell_type": "code",
   "execution_count": 3,
   "id": "e36ec815",
   "metadata": {},
   "outputs": [
    {
     "data": {
      "text/plain": [
       "1"
      ]
     },
     "execution_count": 3,
     "metadata": {},
     "output_type": "execute_result"
    }
   ],
   "source": [
    "q = CircularQueue(5)\n",
    "for i in range(1,4):\n",
    "    q.enqueue(i)\n",
    "q.dequeue()\n"
   ]
  },
  {
   "cell_type": "code",
   "execution_count": 4,
   "id": "8d4a874d",
   "metadata": {},
   "outputs": [
    {
     "data": {
      "text/plain": [
       "2"
      ]
     },
     "execution_count": 4,
     "metadata": {},
     "output_type": "execute_result"
    }
   ],
   "source": [
    "q.enqueue(4)\n",
    "q.enqueue(5)\n",
    "q.dequeue()"
   ]
  },
  {
   "cell_type": "code",
   "execution_count": 5,
   "id": "f30db117",
   "metadata": {},
   "outputs": [],
   "source": [
    "q.enqueue(50)"
   ]
  },
  {
   "cell_type": "code",
   "execution_count": 7,
   "id": "055c7e59",
   "metadata": {},
   "outputs": [
    {
     "data": {
      "text/plain": [
       "[50, 2, 3, 4, 5]"
      ]
     },
     "execution_count": 7,
     "metadata": {},
     "output_type": "execute_result"
    }
   ],
   "source": [
    "q.queue"
   ]
  },
  {
   "cell_type": "code",
   "execution_count": null,
   "id": "5b6deaa5",
   "metadata": {},
   "outputs": [],
   "source": []
  }
 ],
 "metadata": {
  "kernelspec": {
   "display_name": "Python 3 (ipykernel)",
   "language": "python",
   "name": "python3"
  },
  "language_info": {
   "codemirror_mode": {
    "name": "ipython",
    "version": 3
   },
   "file_extension": ".py",
   "mimetype": "text/x-python",
   "name": "python",
   "nbconvert_exporter": "python",
   "pygments_lexer": "ipython3",
   "version": "3.11.1"
  }
 },
 "nbformat": 4,
 "nbformat_minor": 5
}
