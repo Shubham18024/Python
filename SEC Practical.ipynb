{
 "cells": [
  {
   "cell_type": "markdown",
   "id": "2b47f9b1",
   "metadata": {},
   "source": [
    "### Write a Program for checking whether the given number is an even number or not."
   ]
  },
  {
   "cell_type": "code",
   "execution_count": 10,
   "id": "8c4ffbf3",
   "metadata": {},
   "outputs": [
    {
     "name": "stdout",
     "output_type": "stream",
     "text": [
      "Enter the number : D\n",
      "Input is not a valid integer.\n",
      "Please enter a valid number!\n"
     ]
    }
   ],
   "source": [
    "def check_even_odd(num) :\n",
    "    if num%2 == 0:\n",
    "        print(f\"{num} is an even number.\")\n",
    "    else:\n",
    "        print(f\"{num} is a odd number.\")\n",
    "\n",
    "try :\n",
    "    number = int(input(\"Enter the number : \"))\n",
    "    check_even_odd(number)\n",
    "except ValueError :\n",
    "    print(\"Input is not a valid integer.\\nPlease enter a valid number!\")"
   ]
  },
  {
   "cell_type": "markdown",
   "id": "ce4d82bb",
   "metadata": {},
   "source": [
    "### Write a program using a while loop that asks the user for a number, and prints a countdown from that number to zero.\n"
   ]
  },
  {
   "cell_type": "code",
   "execution_count": 15,
   "id": "4aacb89e",
   "metadata": {},
   "outputs": [
    {
     "name": "stdout",
     "output_type": "stream",
     "text": [
      "Enter the number : 5\n",
      "Countdown begins...\n",
      "\n",
      ".........5..........\n",
      ".........4..........\n",
      ".........3..........\n",
      ".........2..........\n",
      ".........1..........\n",
      ".........0..........\n"
     ]
    }
   ],
   "source": [
    "import time\n",
    "try :\n",
    "    number = int(input(\"Enter the number : \"))\n",
    "    print(\"Countdown begins...\\n\")\n",
    "    time.sleep(0.8)\n",
    "except ValueError :\n",
    "    print(\"Input is not a valid integer.\\nPlease enter a valid number!\")\n",
    "while number >= 0 :\n",
    "    print(f\"{number:.^20}\")\n",
    "    time.sleep(0.8)\n",
    "    number-=1"
   ]
  },
  {
   "cell_type": "markdown",
   "id": "c437c072",
   "metadata": {},
   "source": [
    "### Find the sum of all the primes below two million. "
   ]
  },
  {
   "cell_type": "markdown",
   "id": "8e61d854",
   "metadata": {},
   "source": [
    "Theorem:\n",
    "For any composite number n, if n = a X b, at least one of the factors a or b must be less than or equal to square root of n."
   ]
  },
  {
   "cell_type": "code",
   "execution_count": 10,
   "id": "18e74000",
   "metadata": {},
   "outputs": [
    {
     "name": "stdout",
     "output_type": "stream",
     "text": [
      "Enter the number : 2000000\n",
      "The sum of all primes below 2000000 is: 142913828922\n"
     ]
    }
   ],
   "source": [
    "def check_prime(n):\n",
    "    if n <= 1 :\n",
    "        return False\n",
    "    for i in range(2,int(num**0.5)+1):\n",
    "        if n%i == 0:\n",
    "            return False\n",
    "    return True\n",
    "\n",
    "num = int(input(\"Enter the number : \"))\n",
    "num_copy = num\n",
    "\n",
    "prime_collection = []\n",
    "while num > 1:\n",
    "    if check_prime(num):\n",
    "        prime_collection.append(num)\n",
    "    num-=1\n",
    "\n",
    "# print(prime_collection[::-1])\n",
    "print(f\"The sum of all primes below {num_copy} is: {sum(prime_collection)}\")"
   ]
  },
  {
   "cell_type": "code",
   "execution_count": 11,
   "id": "f3392b31",
   "metadata": {},
   "outputs": [
    {
     "name": "stdout",
     "output_type": "stream",
     "text": [
      "The sum of all primes below 2000000 is: 142913828922\n"
     ]
    }
   ],
   "source": [
    "import sympy as sp\n",
    "print(f\"The sum of all primes below 2000000 is: {sum(sp.primerange(1,2000000))}\")"
   ]
  },
  {
   "cell_type": "code",
   "execution_count": null,
   "id": "c59ce2f1",
   "metadata": {},
   "outputs": [],
   "source": []
  }
 ],
 "metadata": {
  "kernelspec": {
   "display_name": "Python 3 (ipykernel)",
   "language": "python",
   "name": "python3"
  },
  "language_info": {
   "codemirror_mode": {
    "name": "ipython",
    "version": 3
   },
   "file_extension": ".py",
   "mimetype": "text/x-python",
   "name": "python",
   "nbconvert_exporter": "python",
   "pygments_lexer": "ipython3",
   "version": "3.11.1"
  }
 },
 "nbformat": 4,
 "nbformat_minor": 5
}
